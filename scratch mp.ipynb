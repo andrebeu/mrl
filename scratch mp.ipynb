{
 "cells": [
  {
   "cell_type": "code",
   "execution_count": 1,
   "id": "e65d3248",
   "metadata": {},
   "outputs": [],
   "source": [
    "import multiprocessing as mp\n",
    "import time"
   ]
  },
  {
   "cell_type": "code",
   "execution_count": 2,
   "id": "9e4b3f18",
   "metadata": {},
   "outputs": [],
   "source": [
    "time.sleep(1)"
   ]
  },
  {
   "cell_type": "code",
   "execution_count": 3,
   "id": "dd8dc6f7",
   "metadata": {},
   "outputs": [],
   "source": [
    "t1 = time.perf_counter()"
   ]
  },
  {
   "cell_type": "code",
   "execution_count": 8,
   "id": "125f6201",
   "metadata": {},
   "outputs": [
    {
     "ename": "SyntaxError",
     "evalue": "unexpected EOF while parsing (<ipython-input-8-5d2b3d2d82df>, line 8)",
     "output_type": "error",
     "traceback": [
      "\u001b[0;36m  File \u001b[0;32m\"<ipython-input-8-5d2b3d2d82df>\"\u001b[0;36m, line \u001b[0;32m8\u001b[0m\n\u001b[0;31m    \u001b[0m\n\u001b[0m    ^\u001b[0m\n\u001b[0;31mSyntaxError\u001b[0m\u001b[0;31m:\u001b[0m unexpected EOF while parsing\n"
     ]
    }
   ],
   "source": [
    "def f(t):\n",
    "  print('fcall')\n",
    "  time.sleep(t)\n",
    "  print('fdone')\n",
    "\n",
    "  \n",
    "def read(L): \n",
    "  print(L)\n",
    "  time.sleep(2)\n",
    "  None\n",
    "  \n",
    "def write(L,a):\n",
    "  L.append(a)\n",
    "  time.sleep(1)\n",
    "\n",
    "  "
   ]
  },
  {
   "cell_type": "code",
   "execution_count": 5,
   "id": "377e5e07",
   "metadata": {},
   "outputs": [
    {
     "name": "stdout",
     "output_type": "stream",
     "text": [
      "fcall\n",
      "fcall\n",
      "fcall\n",
      "fdone\n",
      "fdonefdone\n",
      "\n"
     ]
    }
   ],
   "source": [
    "L = []\n",
    "for _ in range(3):\n",
    "  p = mp.Process(target=f,args=[1])\n",
    "  p.start()\n",
    "  L.append(p)\n",
    "\n",
    "for p in L:\n",
    "  p.join()\n"
   ]
  },
  {
   "cell_type": "code",
   "execution_count": 6,
   "id": "68982f4d",
   "metadata": {},
   "outputs": [],
   "source": [
    "t2 = time.perf_counter()"
   ]
  },
  {
   "cell_type": "code",
   "execution_count": 7,
   "id": "ff7eeaa0",
   "metadata": {},
   "outputs": [
    {
     "name": "stdout",
     "output_type": "stream",
     "text": [
      "1.101716304\n"
     ]
    }
   ],
   "source": [
    "print(t2-t1)"
   ]
  }
 ],
 "metadata": {
  "kernelspec": {
   "display_name": "Python 3",
   "language": "python",
   "name": "python3"
  },
  "language_info": {
   "codemirror_mode": {
    "name": "ipython",
    "version": 3
   },
   "file_extension": ".py",
   "mimetype": "text/x-python",
   "name": "python",
   "nbconvert_exporter": "python",
   "pygments_lexer": "ipython3",
   "version": "3.7.10"
  }
 },
 "nbformat": 4,
 "nbformat_minor": 5
}
