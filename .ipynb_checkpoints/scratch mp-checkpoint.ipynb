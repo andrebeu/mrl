{
 "cells": [
  {
   "cell_type": "code",
   "execution_count": 1,
   "id": "d5fd6e1f",
   "metadata": {},
   "outputs": [],
   "source": [
    "import multiprocessing as mp\n",
    "import time"
   ]
  },
  {
   "cell_type": "code",
   "execution_count": 2,
   "id": "dbb6444d",
   "metadata": {},
   "outputs": [],
   "source": [
    "time.sleep(1)"
   ]
  },
  {
   "cell_type": "code",
   "execution_count": 3,
   "id": "23eec266",
   "metadata": {},
   "outputs": [],
   "source": [
    "t1 = time.perf_counter()"
   ]
  },
  {
   "cell_type": "code",
   "execution_count": 9,
   "id": "5708e209",
   "metadata": {},
   "outputs": [],
   "source": [
    "def f(t):\n",
    "  print('fcall')\n",
    "  time.sleep(t)\n",
    "  print('fdone')\n",
    "\n",
    "  \n",
    "def read(L): \n",
    "  print(L)\n",
    "  time.sleep(2)\n",
    "  None\n",
    "  \n",
    "def write(L,a):\n",
    "  L.append(a)\n",
    "  time.sleep(1)\n",
    "\n",
    "  "
   ]
  },
  {
   "cell_type": "code",
   "execution_count": 5,
   "id": "9432cf9b",
   "metadata": {},
   "outputs": [
    {
     "name": "stdout",
     "output_type": "stream",
     "text": [
      "fcall\n",
      "fcall\n",
      "fcall\n",
      "fdone\n",
      "fdonefdone\n",
      "\n"
     ]
    }
   ],
   "source": [
    "L = []\n",
    "for _ in range(3):\n",
    "  p = mp.Process(target=f,args=[1])\n",
    "  p.start()\n",
    "  L.append(p)\n",
    "\n",
    "for p in L:\n",
    "  p.join()\n"
   ]
  },
  {
   "cell_type": "code",
   "execution_count": 6,
   "id": "7776f1b1",
   "metadata": {},
   "outputs": [],
   "source": [
    "t2 = time.perf_counter()"
   ]
  },
  {
   "cell_type": "code",
   "execution_count": 7,
   "id": "ea29b9f1",
   "metadata": {},
   "outputs": [
    {
     "name": "stdout",
     "output_type": "stream",
     "text": [
      "1.101716304\n"
     ]
    }
   ],
   "source": [
    "print(t2-t1)"
   ]
  }
 ],
 "metadata": {
  "kernelspec": {
   "display_name": "Python 3",
   "language": "python",
   "name": "python3"
  },
  "language_info": {
   "codemirror_mode": {
    "name": "ipython",
    "version": 3
   },
   "file_extension": ".py",
   "mimetype": "text/x-python",
   "name": "python",
   "nbconvert_exporter": "python",
   "pygments_lexer": "ipython3",
   "version": "3.7.10"
  }
 },
 "nbformat": 4,
 "nbformat_minor": 5
}
