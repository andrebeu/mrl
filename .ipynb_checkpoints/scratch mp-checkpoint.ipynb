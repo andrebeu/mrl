{
 "cells": [
  {
   "cell_type": "code",
   "execution_count": 1,
   "id": "f7ebaa9c",
   "metadata": {},
   "outputs": [],
   "source": [
    "import multiprocessing as mp\n",
    "import time"
   ]
  },
  {
   "cell_type": "code",
   "execution_count": 2,
   "id": "5e705991",
   "metadata": {},
   "outputs": [],
   "source": [
    "time.sleep(1)"
   ]
  },
  {
   "cell_type": "code",
   "execution_count": 3,
   "id": "b7441261",
   "metadata": {},
   "outputs": [],
   "source": [
    "t1 = time.perf_counter()"
   ]
  },
  {
   "cell_type": "code",
   "execution_count": 4,
   "id": "8c28399c",
   "metadata": {},
   "outputs": [],
   "source": [
    "def f(t):\n",
    "  print('fcall')\n",
    "  time.sleep(t)\n",
    "  print('fdone')\n"
   ]
  },
  {
   "cell_type": "code",
   "execution_count": 5,
   "id": "d1665879",
   "metadata": {},
   "outputs": [
    {
     "name": "stdout",
     "output_type": "stream",
     "text": [
      "fcall\n",
      "fcall\n",
      "fcall\n",
      "fdone\n",
      "fdonefdone\n",
      "\n"
     ]
    }
   ],
   "source": [
    "L = []\n",
    "for _ in range(3):\n",
    "  p = mp.Process(target=f,args=[1])\n",
    "  p.start()\n",
    "  L.append(p)\n",
    "\n",
    "for p in L:\n",
    "  p.join()\n"
   ]
  },
  {
   "cell_type": "code",
   "execution_count": 6,
   "id": "5f287f79",
   "metadata": {},
   "outputs": [],
   "source": [
    "t2 = time.perf_counter()"
   ]
  },
  {
   "cell_type": "code",
   "execution_count": 7,
   "id": "ac3fc964",
   "metadata": {},
   "outputs": [
    {
     "name": "stdout",
     "output_type": "stream",
     "text": [
      "1.101716304\n"
     ]
    }
   ],
   "source": [
    "print(t2-t1)"
   ]
  }
 ],
 "metadata": {
  "kernelspec": {
   "display_name": "Python 3",
   "language": "python",
   "name": "python3"
  },
  "language_info": {
   "codemirror_mode": {
    "name": "ipython",
    "version": 3
   },
   "file_extension": ".py",
   "mimetype": "text/x-python",
   "name": "python",
   "nbconvert_exporter": "python",
   "pygments_lexer": "ipython3",
   "version": "3.7.10"
  }
 },
 "nbformat": 4,
 "nbformat_minor": 5
}
