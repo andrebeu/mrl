{
 "cells": [
  {
   "cell_type": "code",
   "execution_count": 1,
   "id": "57154ac2",
   "metadata": {},
   "outputs": [],
   "source": [
    "import numpy as np\n",
    "import torch as tr\n",
    "from utils import *\n",
    "from matplotlib import pyplot as plt\n",
    "\n",
    "%reload_ext autoreload\n",
    "%autoreload 2\n",
    "%matplotlib inline"
   ]
  },
  {
   "cell_type": "markdown",
   "id": "2608d9f2",
   "metadata": {},
   "source": [
    "# training"
   ]
  },
  {
   "cell_type": "code",
   "execution_count": null,
   "id": "54f7bd82",
   "metadata": {},
   "outputs": [],
   "source": [
    "pr = 0.8\n",
    "eplen = 50\n",
    "switch = 25\n",
    "\n",
    "TDupdate = False # 0:MC,1:TD\n",
    "\n",
    "task = MRLBandit(eplen=eplen,banditpr=pr,switch_param=switch)\n",
    "agent = ActorCritic(stsize=40,gamma=0.8,TDupdate=TDupdate)\n",
    "\n",
    "neps = 10000\n",
    "L = []\n",
    "for ep in range(neps):\n",
    "  expL = agent.unroll_ep(task)\n",
    "  expD = unpack_expL(expL)\n",
    "  agent.update(expD)\n",
    "  ep_reward = expD['reward'].sum()\n",
    "  L.append(ep_reward)\n"
   ]
  },
  {
   "cell_type": "code",
   "execution_count": null,
   "id": "764a7e30",
   "metadata": {},
   "outputs": [],
   "source": [
    "R = np.array(L)\n",
    "R = R.reshape(-1,20).mean(1)\n",
    "plt.plot(R)\n",
    "\n",
    "plt.axhline(eplen*pr,c='g')\n",
    "plt.axhline(eplen/2,c='r')"
   ]
  },
  {
   "cell_type": "markdown",
   "id": "b6efc77e",
   "metadata": {},
   "source": [
    "# eval"
   ]
  },
  {
   "cell_type": "code",
   "execution_count": null,
   "id": "a559f685",
   "metadata": {},
   "outputs": [],
   "source": []
  }
 ],
 "metadata": {
  "kernelspec": {
   "display_name": "Python 3",
   "language": "python",
   "name": "python3"
  },
  "language_info": {
   "codemirror_mode": {
    "name": "ipython",
    "version": 3
   },
   "file_extension": ".py",
   "mimetype": "text/x-python",
   "name": "python",
   "nbconvert_exporter": "python",
   "pygments_lexer": "ipython3",
   "version": "3.7.10"
  }
 },
 "nbformat": 4,
 "nbformat_minor": 5
}
