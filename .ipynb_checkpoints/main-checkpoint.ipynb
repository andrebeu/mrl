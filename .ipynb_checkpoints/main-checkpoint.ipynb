{
 "cells": [
  {
   "cell_type": "code",
   "execution_count": 1,
   "id": "57154ac2",
   "metadata": {},
   "outputs": [],
   "source": [
    "import numpy as np\n",
    "import torch as tr\n",
    "from utils import *\n",
    "from matplotlib import pyplot as plt\n",
    "\n",
    "%reload_ext autoreload\n",
    "%autoreload 2\n",
    "%matplotlib inline"
   ]
  },
  {
   "cell_type": "markdown",
   "id": "b39eb510",
   "metadata": {},
   "source": [
    "# training\n",
    "- train switch 2-armed bandit that, on every step, switches with 5% probability "
   ]
  },
  {
   "cell_type": "code",
   "execution_count": null,
   "id": "d97290bb",
   "metadata": {},
   "outputs": [],
   "source": [
    "pr = 0.85\n",
    "eplen = 40\n",
    "switch = 0.05 ## train on probabilistic switching\n",
    "TDupdate = False # 0:MC,1:TD\n",
    "\n",
    "task = MRLBandit(eplen=eplen,banditpr=pr,switch_param=switch)\n",
    "agent = ActorCritic(stsize=40,gamma=0.8,TDupdate=TDupdate)\n",
    "\n",
    "neps = 100000\n",
    "L = []\n",
    "for ep in range(neps):\n",
    "  expL = agent.unroll_ep(task)\n",
    "  expD = unpack_expL(expL)\n",
    "  agent.update(expD)\n",
    "  ep_reward = expD['reward'].sum()\n",
    "  L.append(ep_reward)\n"
   ]
  },
  {
   "cell_type": "code",
   "execution_count": null,
   "id": "b6f504c9",
   "metadata": {},
   "outputs": [],
   "source": [
    "R = np.array(L)\n",
    "R = R.reshape(-1,50).mean(1)\n",
    "plt.plot(R)\n",
    "plt.axhline(eplen*pr,c='g')\n",
    "plt.axhline(eplen/2,c='r')"
   ]
  },
  {
   "cell_type": "markdown",
   "id": "45c45adb",
   "metadata": {},
   "source": [
    "# eval switch point recovery\n",
    "- set deterministic switch point to average across model runs and examine switch recovery\n",
    "- decrease reward probability to make slightly more challenging \n",
    "- increase episode length to evaluate extrapolation over support  "
   ]
  },
  {
   "cell_type": "code",
   "execution_count": null,
   "id": "9c02d516",
   "metadata": {
    "scrolled": true
   },
   "outputs": [],
   "source": [
    "switch_ev = 20 ## eval on deterministic switching\n",
    "eplen = 60\n",
    "pr = 0.8\n",
    "task_ev = MRLBandit(eplen=eplen,banditpr=pr,switch_param=switch_ev)\n",
    "\n",
    "neps_ev = 1000\n",
    "Rev = np.zeros([neps_ev,eplen+1])\n",
    "for ep in range(neps_ev):\n",
    "  expL = agent.unroll_ep(task_ev)\n",
    "  expD = unpack_expL(expL)\n",
    "  Rev[ep] = expD['reward']\n",
    "  "
   ]
  },
  {
   "cell_type": "code",
   "execution_count": null,
   "id": "122661dd",
   "metadata": {},
   "outputs": [],
   "source": [
    "M = Rev.mean(0)\n",
    "S = Rev.std(0)/np.sqrt(len(Rev))\n",
    "plt.plot(M)\n",
    "plt.scatter(range(len(M)),M)\n",
    "plt.fill_between(range(len(M)),M-S,M+S,alpha=0.2,color='b')\n",
    "plt.axhline(pr,c='g')\n",
    "plt.axvline(40,c='k',lw=.5)\n",
    "plt.ylim(0,1)"
   ]
  }
 ],
 "metadata": {
  "kernelspec": {
   "display_name": "Python 3",
   "language": "python",
   "name": "python3"
  },
  "language_info": {
   "codemirror_mode": {
    "name": "ipython",
    "version": 3
   },
   "file_extension": ".py",
   "mimetype": "text/x-python",
   "name": "python",
   "nbconvert_exporter": "python",
   "pygments_lexer": "ipython3",
   "version": "3.7.10"
  }
 },
 "nbformat": 4,
 "nbformat_minor": 5
}
