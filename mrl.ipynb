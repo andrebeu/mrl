{
 "cells": [
  {
   "cell_type": "code",
   "execution_count": 53,
   "metadata": {},
   "outputs": [
    {
     "name": "stdout",
     "output_type": "stream",
     "text": [
      "The autoreload extension is already loaded. To reload it, use:\n",
      "  %reload_ext autoreload\n"
     ]
    }
   ],
   "source": [
    "import tensorflow as tf\n",
    "import numpy as np\n",
    "\n",
    "from mrl import *\n",
    "\n",
    "from datetime import datetime as dt\n",
    "import matplotlib.pyplot as plt\n",
    "%matplotlib inline\n",
    "\n",
    "%load_ext autoreload\n",
    "%reload_ext autoreload\n",
    "%autoreload 2"
   ]
  },
  {
   "cell_type": "markdown",
   "metadata": {},
   "source": [
    "## train"
   ]
  },
  {
   "cell_type": "code",
   "execution_count": null,
   "metadata": {
    "scrolled": true
   },
   "outputs": [
    {
     "name": "stdout",
     "output_type": "stream",
     "text": [
      "0.0\n",
      "0.01\n",
      "0.02\n",
      "0.03\n",
      "0.04\n",
      "0.05\n",
      "0.06\n",
      "0.07\n",
      "0.08\n",
      "0.09\n",
      "0.1\n",
      "0.11\n",
      "0.12\n",
      "0.13\n",
      "0.14\n",
      "0.15\n",
      "0.16\n",
      "0.17\n",
      "0.18\n",
      "0.19\n",
      "0.2\n",
      "0.21\n",
      "0.22\n",
      "0.23\n",
      "0.24\n",
      "0.25\n",
      "0.26\n",
      "0.27\n",
      "0.28\n",
      "0.29\n",
      "0.3\n",
      "0.31\n",
      "0.32\n",
      "0.33\n",
      "0.34\n",
      "0.35\n",
      "0.36\n",
      "0.37\n",
      "0.38\n",
      "0.39\n",
      "0.4\n",
      "0.41\n",
      "0.42\n",
      "0.43\n",
      "0.44\n",
      "0.45\n",
      "0.46\n",
      "0.47\n",
      "0.48\n",
      "0.49\n",
      "0.5\n",
      "0.51\n",
      "0.52\n",
      "0.53\n",
      "0.54\n",
      "0.55\n",
      "0.56\n",
      "0.57\n",
      "0.58\n",
      "0.59\n",
      "0.6\n",
      "0.61\n",
      "0.62\n",
      "0.63\n",
      "0.64\n",
      "0.65\n",
      "0.66\n"
     ]
    }
   ],
   "source": [
    "agent = MRLAgent(gamma=.7,stsize=30,seed=3)\n",
    "train_data = agent.train(3000)"
   ]
  },
  {
   "cell_type": "code",
   "execution_count": null,
   "metadata": {
    "scrolled": true
   },
   "outputs": [],
   "source": [
    "fig,axarr = plt.subplots(4,1,figsize=(14,12),sharex=True)\n",
    "\n",
    "cL = ['purple','g','b','r']\n",
    "titleL = ['overall','value','policy','entropy']\n",
    "for i in range(4):\n",
    "  axarr[i].plot(train_data[:,i],c=cL[i])\n",
    "  axarr[i].set_title(titleL[i])\n",
    "  axarr[i].axhline(0,c='black',ls='--')\n",
    "\n",
    "# plt.savefig('figures/train_loss-3000epochs-1eps-env_switching8020')"
   ]
  },
  {
   "cell_type": "code",
   "execution_count": null,
   "metadata": {},
   "outputs": [],
   "source": [
    "eps = 500\n",
    "eval_r1 = agent.eval(eps,banditpr=.8)\n",
    "eval_r2 = agent.eval(eps,banditpr=.2)"
   ]
  },
  {
   "cell_type": "code",
   "execution_count": null,
   "metadata": {},
   "outputs": [],
   "source": [
    "plt.figure(figsize=(12,4))\n",
    "cL = ['r','b']\n",
    "nL = ['8020','2080']\n",
    "for idx,eval_r in enumerate([eval_r1,eval_r2]):\n",
    "  M = eval_r.mean(0)\n",
    "  S = eval_r.std(0)/np.sqrt(eps)\n",
    "  plt.plot(M,c=cL[idx],label=nL[idx])\n",
    "  plt.fill_between(np.arange(30),M-S,M+S,alpha=.3,color=cL[idx])\n",
    "plt.legend()\n",
    "plt.axhline(0.5,c='black',lw=.5)\n",
    "plt.axhline(0.8,c='black',lw=.5)\n",
    "# plt.ylim(0.4,0.9)\n",
    "plt.ylabel('reward')\n",
    "plt.xlabel('trial')\n",
    "# plt.savefig('figures/eval_reward-3000epochs-1eps-env_switching8020')"
   ]
  },
  {
   "cell_type": "markdown",
   "metadata": {},
   "source": [
    "### eval plot"
   ]
  },
  {
   "cell_type": "markdown",
   "metadata": {},
   "source": [
    "### regret plot"
   ]
  },
  {
   "cell_type": "code",
   "execution_count": 24,
   "metadata": {},
   "outputs": [
    {
     "data": {
      "text/plain": [
       "[<matplotlib.lines.Line2D at 0x13ca32198>]"
      ]
     },
     "execution_count": 24,
     "metadata": {},
     "output_type": "execute_result"
    },
    {
     "data": {
      "image/png": "[encoded data removed]",
      "text/plain": [
       "<Figure size 432x288 with 1 Axes>"
      ]
     },
     "metadata": {},
     "output_type": "display_data"
    }
   ],
   "source": [
    "# is the agent just exploting one arm which is slightly more likely under the current random seed?\n",
    "R=[]\n",
    "for i in range(500):\n",
    "  eval_reward = agent.eval(1)\n",
    "  bandit = np.round(agent.env.banditpr[0],1)\n",
    "  if bandit==0.1:\n",
    "    c='r'\n",
    "  elif bandit==0.9:\n",
    "    c='b'\n",
    "    continue\n",
    "  regret=.9*np.arange(75)-np.cumsum(eval_reward)\n",
    "  R.append(regret)\n",
    "#   plt.plot(regret,color=c)\n",
    "  \n",
    "plt.plot(np.mean(R,0))"
   ]
  },
  {
   "cell_type": "markdown",
   "metadata": {},
   "source": [
    "# debug"
   ]
  },
  {
   "cell_type": "code",
   "execution_count": 106,
   "metadata": {},
   "outputs": [],
   "source": [
    "task = BanditsSim1()\n",
    "task.new_episode(eplen=10,p0=0.1)"
   ]
  },
  {
   "cell_type": "code",
   "execution_count": 175,
   "metadata": {},
   "outputs": [
    {
     "name": "stdout",
     "output_type": "stream",
     "text": [
      "[0.51, 0.19999999999999996]\n",
      "[0.30000000000000004, 0.3599999999999999]\n",
      "[0.30000000000000004, 0.4879999999999999]\n",
      "[0.30000000000000004, 0.5903999999999999]\n",
      "[0.30000000000000004, 0.6723199999999999]\n",
      "[0.30000000000000004, 0.7378559999999998]\n",
      "[0.30000000000000004, 0.7902847999999999]\n",
      "[0.30000000000000004, 0.8322278399999999]\n",
      "[0.30000000000000004, 0.8657822719999999]\n"
     ]
    }
   ],
   "source": [
    "task.new_episode(eplen=10,p0=0.3)\n",
    "terminate = False\n",
    "s,r,terminate = task.pullArm(1)\n",
    "while terminate==False:\n",
    "  s,r,terminate = task.pullArm(0)\n",
    "  print(task.pr_rewards)\n",
    "  \n",
    "  "
   ]
  },
  {
   "cell_type": "code",
   "execution_count": 176,
   "metadata": {},
   "outputs": [],
   "source": [
    "agent = MRLAgent()"
   ]
  },
  {
   "cell_type": "code",
   "execution_count": 199,
   "metadata": {
    "scrolled": true
   },
   "outputs": [
    {
     "data": {
      "text/plain": [
       "71"
      ]
     },
     "execution_count": 199,
     "metadata": {},
     "output_type": "execute_result"
    }
   ],
   "source": [
    "eb = agent.unroll_episode()\n",
    "agent.update(eb)\n",
    "len(eb)"
   ]
  },
  {
   "cell_type": "code",
   "execution_count": 203,
   "metadata": {},
   "outputs": [
    {
     "data": {
      "text/plain": [
       "<tensorflow.python.training.adam.AdamOptimizer at 0x138fb4b38>"
      ]
     },
     "execution_count": 203,
     "metadata": {},
     "output_type": "execute_result"
    }
   ],
   "source": [
    "tf.train.AdamOptimizer(0.05) or tf.train.RMSPropOptimizer(0.00005)"
   ]
  }
 ],
 "metadata": {
  "kernelspec": {
   "display_name": "Python 3",
   "language": "python",
   "name": "python3"
  },
  "language_info": {
   "codemirror_mode": {
    "name": "ipython",
    "version": 3
   },
   "file_extension": ".py",
   "mimetype": "text/x-python",
   "name": "python",
   "nbconvert_exporter": "python",
   "pygments_lexer": "ipython3",
   "version": "3.6.5"
  }
 },
 "nbformat": 4,
 "nbformat_minor": 2
}
